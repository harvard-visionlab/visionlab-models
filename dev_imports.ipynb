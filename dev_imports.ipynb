{
 "cells": [
  {
   "cell_type": "code",
   "execution_count": 1,
   "id": "d1d74e63-6628-4040-858b-30d501a61aed",
   "metadata": {},
   "outputs": [],
   "source": [
    "import models as vsl_models"
   ]
  },
  {
   "cell_type": "code",
   "execution_count": 2,
   "id": "a3054c09-cce7-4760-bc1b-c30be208e337",
   "metadata": {},
   "outputs": [],
   "source": [
    "# from models.registry import *"
   ]
  },
  {
   "cell_type": "code",
   "execution_count": 3,
   "id": "e05c8658-37d7-4ae8-8635-78dfb96b024d",
   "metadata": {},
   "outputs": [],
   "source": [
    "# list_families()"
   ]
  },
  {
   "cell_type": "code",
   "execution_count": null,
   "id": "ec6a6a9b-ce44-489b-9c99-9d8941263a4f",
   "metadata": {},
   "outputs": [],
   "source": []
  }
 ],
 "metadata": {
  "kernelspec": {
   "display_name": "Python 3 (ipykernel)",
   "language": "python",
   "name": "python3"
  },
  "language_info": {
   "codemirror_mode": {
    "name": "ipython",
    "version": 3
   },
   "file_extension": ".py",
   "mimetype": "text/x-python",
   "name": "python",
   "nbconvert_exporter": "python",
   "pygments_lexer": "ipython3",
   "version": "3.10.4"
  }
 },
 "nbformat": 4,
 "nbformat_minor": 5
}
