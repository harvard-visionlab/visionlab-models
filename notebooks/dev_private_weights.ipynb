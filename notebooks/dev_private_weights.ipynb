{
 "cells": [
  {
   "cell_type": "code",
   "execution_count": 1,
   "id": "90b15a9e-6e22-4c93-aa87-b92c89f837e7",
   "metadata": {},
   "outputs": [],
   "source": [
    "import torch"
   ]
  },
  {
   "cell_type": "code",
   "execution_count": 4,
   "id": "674adee2-101d-439d-b2b7-3475138afe3a",
   "metadata": {},
   "outputs": [],
   "source": [
    "# model = torch.hub.load(\"harvard-visionlab/modelhub\", \"alexnet_pytorch\")\n",
    "# model"
   ]
  },
  {
   "cell_type": "code",
   "execution_count": 8,
   "id": "54bec1c7-f51a-4849-aef2-6d5579e50a45",
   "metadata": {},
   "outputs": [
    {
     "name": "stderr",
     "output_type": "stream",
     "text": [
      "Downloading: \"https://download.pytorch.org/models/alexnet-owt-7be5be79.pth\" to /home/jovyan/.cache/torch/hub/checkpoints/alexnet-owt-7be5be79.pth\n"
     ]
    },
    {
     "data": {
      "application/vnd.jupyter.widget-view+json": {
       "model_id": "1bf96552a865458189d39385ce71243b",
       "version_major": 2,
       "version_minor": 0
      },
      "text/plain": [
       "  0%|          | 0.00/233M [00:00<?, ?B/s]"
      ]
     },
     "metadata": {},
     "output_type": "display_data"
    },
    {
     "data": {
      "text/plain": [
       "('7be5be79',\n",
       " '/home/jovyan/.cache/torch/hub/checkpoints/alexnet-owt-7be5be79.pth')"
      ]
     },
     "execution_count": 8,
     "metadata": {},
     "output_type": "execute_result"
    }
   ],
   "source": [
    "import os\n",
    "import torch\n",
    "\n",
    "model_dir = os.path.join(torch.hub.get_dir(), \"checkpoints\")\n",
    "url = 'https://download.pytorch.org/models/alexnet-owt-7be5be79.pth'\n",
    "cache_filename = 'alexnet-owt-7be5be79.pth'\n",
    "\n",
    "checkpoint = torch.hub.load_state_dict_from_url(\n",
    "    url = url,\n",
    "    model_dir = model_dir,\n",
    "    map_location = 'cpu',\n",
    "    progress = True,\n",
    "    check_hash = True,\n",
    "    file_name = cache_filename\n",
    ")\n",
    "\n",
    "r = torch.hub.HASH_REGEX.search(cache_filename)  # r is Optional[Match[str]]\n",
    "hashid = r.group(1) if r else None\n",
    "weights_file = os.path.join(model_dir, cache_filename)\n",
    "hashid, weights_file"
   ]
  },
  {
   "cell_type": "code",
   "execution_count": 9,
   "id": "cc5d3f1b-b8ad-48f6-a587-5b5872dcbfba",
   "metadata": {},
   "outputs": [
    {
     "name": "stdout",
     "output_type": "stream",
     "text": [
      "alexnet-owt-7be5be79.pth\n"
     ]
    }
   ],
   "source": [
    "ls {model_dir}"
   ]
  },
  {
   "cell_type": "code",
   "execution_count": null,
   "id": "f5d1dddf-8e93-4afc-87fc-9a19aac19e2b",
   "metadata": {},
   "outputs": [],
   "source": [
    "# pip install git+ssh://git@github.com/harvard-visionlab/viionlab_models.git"
   ]
  },
  {
   "cell_type": "code",
   "execution_count": 7,
   "id": "6274c770-11df-45a7-8303-e4cc237574eb",
   "metadata": {},
   "outputs": [
    {
     "data": {
      "text/plain": [
       "'/home/jovyan/.cache/torch/hub/checkpoints'"
      ]
     },
     "execution_count": 7,
     "metadata": {},
     "output_type": "execute_result"
    }
   ],
   "source": [
    "import os\n",
    "default_model_dir = os.path.join(torch.hub.get_dir(), \"checkpoints\")\n",
    "default_model_dir"
   ]
  },
  {
   "cell_type": "code",
   "execution_count": 31,
   "id": "942edce9-9d77-460f-bff3-2cf9abbd1450",
   "metadata": {},
   "outputs": [],
   "source": [
    "import boto3\n",
    "from botocore.exceptions import ClientError\n",
    "\n",
    "def download_s3_url_to_file(url, dst, hash_prefix=None, progress=True, profile=None, endpoint_url=None):\n",
    "    r\"\"\"Download object at the given S3 URL to a local path.\n",
    "    Args:\n",
    "        url (str): S3 URL of the object to download, e.g. s3://my-bucket/my-file.pth\n",
    "        dst (str): Full path where object will be saved, e.g. ``/tmp/temporary_file``\n",
    "        hash_prefix (str, optional): If not None, the SHA256 downloaded file should start with ``hash_prefix``.\n",
    "            Default: None\n",
    "        progress (bool, optional): whether or not to display a progress bar to stderr\n",
    "            Default: True\n",
    "    Example:\n",
    "        >>> torch.hub.download_s3_url_to_file('s3://my-bucket/my-file.pth', '/tmp/temporary_file')\n",
    "    \"\"\"\n",
    "    bucket, key = url.replace(\"s3://\", \"\").split(\"/\", 1)\n",
    "    # print(bucket, key)\n",
    "    file_size = None\n",
    "    # s3 = boto3.client('s3')\n",
    "    session = boto3.Session(profile_name=profile)\n",
    "    s3 = session.client('s3', endpoint_url=endpoint_url)\n",
    "\n",
    "    try:\n",
    "        obj = s3.head_object(Bucket=bucket, Key=key)\n",
    "        file_size = obj['ContentLength']\n",
    "    except ClientError as e:\n",
    "        print(e)\n",
    "        return\n",
    "\n",
    "    # We deliberately save it in a temp file and move it after\n",
    "    # download is complete. This prevents a local working checkpoint\n",
    "    # being overridden by a broken download.\n",
    "    dst = os.path.expanduser(dst)\n",
    "    dst_dir = os.path.dirname(dst)\n",
    "    f = tempfile.NamedTemporaryFile(delete=False, dir=dst_dir)\n",
    "\n",
    "    try:\n",
    "        if hash_prefix is not None:\n",
    "            sha256 = hashlib.sha256()\n",
    "        with tqdm(total=file_size, disable=not progress,\n",
    "                  unit='B', unit_scale=True, unit_divisor=1024) as pbar:\n",
    "            response = s3.get_object(Bucket=bucket, Key=key, RequestPayer='requester')\n",
    "            while True:\n",
    "                buffer = response['Body'].read(8192)\n",
    "                if len(buffer) == 0:\n",
    "                    break\n",
    "                f.write(buffer)\n",
    "                if hash_prefix is not None:\n",
    "                    sha256.update(buffer)\n",
    "                pbar.update(len(buffer))\n",
    "\n",
    "        f.close()\n",
    "        if hash_prefix is not None:\n",
    "            digest = sha256.hexdigest()\n",
    "            if digest[:len(hash_prefix)] != hash_prefix:\n",
    "                raise RuntimeError('invalid hash value (expected \"{}\", got \"{}\")'\n",
    "                                   .format(hash_prefix, digest))\n",
    "        shutil.move(f.name, dst)\n",
    "    finally:\n",
    "        f.close()\n",
    "        if os.path.exists(f.name):\n",
    "            os.remove(f.name)\n"
   ]
  },
  {
   "cell_type": "code",
   "execution_count": 35,
   "id": "21d7424b-d980-46e4-b197-9e0befeed95d",
   "metadata": {},
   "outputs": [
    {
     "name": "stderr",
     "output_type": "stream",
     "text": [
      "100%|██████████| 233M/233M [00:10<00:00, 22.8MB/s] \n"
     ]
    }
   ],
   "source": [
    "url = \"s3://visionlab-models/alexnet_pytorch-category_supervised-imagenet1k/alexnet-owt-7be5be79.pth\"\n",
    "model_dir = '../weights'\n",
    "filename = 'alexnet-owt-7be5be79.pth'\n",
    "cached_file = os.path.join(model_dir, filename)\n",
    "hash_prefix = '7be5be79'\n",
    "progress = True\n",
    "profile = 'wasabi'\n",
    "endpoint_url = 'https://s3.wasabisys.com'\n",
    "download_s3_url_to_file(url, cached_file, hash_prefix, progress=progress, \n",
    "                        profile=profile, endpoint_url=endpoint_url)"
   ]
  },
  {
   "cell_type": "code",
   "execution_count": 24,
   "id": "8ce3eb83-ffc2-4084-a094-395807ea8e0b",
   "metadata": {},
   "outputs": [],
   "source": [
    "# download_url_to_file(url, dst, hash_prefix=None, progress=True, profile=None, endpoint_url=None)"
   ]
  },
  {
   "cell_type": "code",
   "execution_count": 34,
   "id": "53df9646-f4af-456e-b8d5-725af80f182c",
   "metadata": {},
   "outputs": [
    {
     "name": "stdout",
     "output_type": "stream",
     "text": [
      "alexnet_pytorch-category_supervised-imagenet1k/\n",
      "alexnet_pytorch-category_supervised-imagenet1k/alexnet-owt-7be5be79.pth\n"
     ]
    }
   ],
   "source": [
    "from botocore import UNSIGNED\n",
    "\n",
    "session = boto3.Session(profile_name='wasabi')\n",
    "s3_client = session.client('s3', endpoint_url='https://s3.wasabisys.com')\n",
    "\n",
    "bucket_name = 'visionlab-models'\n",
    "\n",
    "# List the contents of the bucket\n",
    "response = s3_client.list_objects_v2(Bucket=bucket_name)\n",
    "\n",
    "# Print the names of all the objects in the bucket\n",
    "for obj in response['Contents']:\n",
    "    print(obj['Key'])    "
   ]
  },
  {
   "cell_type": "code",
   "execution_count": null,
   "id": "cf6855ec-7674-411c-ba7f-453c49057715",
   "metadata": {},
   "outputs": [],
   "source": []
  }
 ],
 "metadata": {
  "kernelspec": {
   "display_name": "ffcv",
   "language": "python",
   "name": "ffcv"
  },
  "language_info": {
   "codemirror_mode": {
    "name": "ipython",
    "version": 3
   },
   "file_extension": ".py",
   "mimetype": "text/x-python",
   "name": "python",
   "nbconvert_exporter": "python",
   "pygments_lexer": "ipython3",
   "version": "3.9.16"
  }
 },
 "nbformat": 4,
 "nbformat_minor": 5
}
