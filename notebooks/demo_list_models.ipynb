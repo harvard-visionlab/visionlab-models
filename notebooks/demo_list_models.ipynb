{
 "cells": [
  {
   "cell_type": "code",
   "execution_count": null,
   "id": "edd37ea8-a2df-4453-af46-9e8353602791",
   "metadata": {},
   "outputs": [],
   "source": [
    "/home/jovyan/.cache/torch/hub/main.zip"
   ]
  },
  {
   "cell_type": "code",
   "execution_count": 4,
   "id": "2d25bb58-581c-427a-bc7e-b8f17012d5c3",
   "metadata": {},
   "outputs": [
    {
     "name": "stderr",
     "output_type": "stream",
     "text": [
      "Downloading: \"https://github.com/harvard-visionlab/visionlab_models/zipball/main\" to /home/jovyan/.cache/torch/hub/main.zip\n"
     ]
    },
    {
     "ename": "IndentationError",
     "evalue": "expected an indented block after 'if' statement on line 56 (hubconf.py, line 57)",
     "output_type": "error",
     "traceback": [
      "Traceback \u001b[0;36m(most recent call last)\u001b[0m:\n",
      "  File \u001b[1;32m/opt/conda/lib/python3.10/site-packages/IPython/core/interactiveshell.py:3398\u001b[0m in \u001b[1;35mrun_code\u001b[0m\n    exec(code_obj, self.user_global_ns, self.user_ns)\n",
      "  Input \u001b[1;32mIn [4]\u001b[0m in \u001b[1;35m<cell line: 3>\u001b[0m\n    torch.hub.list(\"harvard-visionlab/visionlab_models\", force_reload=True)\n",
      "  File \u001b[1;32m/opt/conda/lib/python3.10/site-packages/torch/hub.py:401\u001b[0m in \u001b[1;35mlist\u001b[0m\n    hub_module = _import_module(MODULE_HUBCONF, hubconf_path)\n",
      "  File \u001b[1;32m/opt/conda/lib/python3.10/site-packages/torch/hub.py:90\u001b[0m in \u001b[1;35m_import_module\u001b[0m\n    spec.loader.exec_module(module)\n",
      "  File \u001b[1;32m<frozen importlib._bootstrap_external>:879\u001b[0m in \u001b[1;35mexec_module\u001b[0m\n",
      "  File \u001b[1;32m<frozen importlib._bootstrap_external>:1017\u001b[0m in \u001b[1;35mget_code\u001b[0m\n",
      "  File \u001b[1;32m<frozen importlib._bootstrap_external>:947\u001b[0m in \u001b[1;35msource_to_code\u001b[0m\n",
      "\u001b[0;36m  File \u001b[0;32m<frozen importlib._bootstrap>:241\u001b[0;36m in \u001b[0;35m_call_with_frames_removed\u001b[0;36m\u001b[0m\n",
      "\u001b[0;36m  File \u001b[0;32m~/.cache/torch/hub/harvard-visionlab_visionlab_models_main/hubconf.py:57\u001b[0;36m\u001b[0m\n\u001b[0;31m    model_name = f\"alexnet_pytorch-{task}-{dataset}-{rep}\"\u001b[0m\n\u001b[0m    ^\u001b[0m\n\u001b[0;31mIndentationError\u001b[0m\u001b[0;31m:\u001b[0m expected an indented block after 'if' statement on line 56\n"
     ]
    }
   ],
   "source": [
    "import torch\n",
    "    \n",
    "torch.hub.list(\"harvard-visionlab/visionlab_models\", force_reload=True)"
   ]
  },
  {
   "cell_type": "code",
   "execution_count": null,
   "id": "1be2cca2-17c8-48a4-9dd9-02cb56ac59c0",
   "metadata": {},
   "outputs": [],
   "source": []
  }
 ],
 "metadata": {
  "kernelspec": {
   "display_name": "Python 3 (ipykernel)",
   "language": "python",
   "name": "python3"
  },
  "language_info": {
   "codemirror_mode": {
    "name": "ipython",
    "version": 3
   },
   "file_extension": ".py",
   "mimetype": "text/x-python",
   "name": "python",
   "nbconvert_exporter": "python",
   "pygments_lexer": "ipython3",
   "version": "3.10.4"
  }
 },
 "nbformat": 4,
 "nbformat_minor": 5
}
