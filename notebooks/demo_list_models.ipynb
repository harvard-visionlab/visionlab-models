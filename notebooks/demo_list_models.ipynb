{
 "cells": [
  {
   "cell_type": "code",
   "execution_count": 7,
   "id": "edd37ea8-a2df-4453-af46-9e8353602791",
   "metadata": {},
   "outputs": [
    {
     "name": "stdout",
     "output_type": "stream",
     "text": [
      "\u001b[0m\u001b[01;34mcheckpoints\u001b[0m/                      \u001b[01;34mharvard-visionlab_visionlab_models_main\u001b[0m/\n",
      "\u001b[01;34mharvard-visionlab_modelhub_main\u001b[0m/  trusted_list\n"
     ]
    }
   ],
   "source": [
    "ls /home/jovyan/.cache/torch/hub"
   ]
  },
  {
   "cell_type": "code",
   "execution_count": 14,
   "id": "54e37012-fe79-4222-bb3a-86a769de15da",
   "metadata": {},
   "outputs": [],
   "source": [
    "!rm -R /home/jovyan/.cache/torch/hub/harvard-visionlab_visionlab_models_main"
   ]
  },
  {
   "cell_type": "code",
   "execution_count": 15,
   "id": "2d25bb58-581c-427a-bc7e-b8f17012d5c3",
   "metadata": {},
   "outputs": [
    {
     "name": "stderr",
     "output_type": "stream",
     "text": [
      "Downloading: \"https://github.com/harvard-visionlab/visionlab_models/zipball/main\" to /home/jovyan/.cache/torch/hub/main.zip\n"
     ]
    },
    {
     "data": {
      "text/plain": [
       "['alexnet_pytorch', 'list_models']"
      ]
     },
     "execution_count": 15,
     "metadata": {},
     "output_type": "execute_result"
    }
   ],
   "source": [
    "import torch\n",
    "    \n",
    "torch.hub.list(\"harvard-visionlab/visionlab_models\", force_reload=True, trust_repo=True)"
   ]
  },
  {
   "cell_type": "code",
   "execution_count": 17,
   "id": "44e61745-abf3-46d7-aef0-b025e8e9aadd",
   "metadata": {},
   "outputs": [
    {
     "name": "stdout",
     "output_type": "stream",
     "text": [
      "testing testing2\n"
     ]
    },
    {
     "name": "stderr",
     "output_type": "stream",
     "text": [
      "Using cache found in /home/jovyan/.cache/torch/hub/harvard-visionlab_visionlab_models_main\n"
     ]
    },
    {
     "data": {
      "text/plain": [
       "['alexnet_pytorch']"
      ]
     },
     "execution_count": 17,
     "metadata": {},
     "output_type": "execute_result"
    }
   ],
   "source": [
    "torch.hub.load(\"harvard-visionlab/visionlab_models\", \"list_models\", \n",
    "               model_source='testing', pattern='testing2')"
   ]
  },
  {
   "cell_type": "code",
   "execution_count": null,
   "id": "78f468a7-425d-4a2f-b30e-ec9a86991e21",
   "metadata": {},
   "outputs": [],
   "source": []
  }
 ],
 "metadata": {
  "kernelspec": {
   "display_name": "Python 3 (ipykernel)",
   "language": "python",
   "name": "python3"
  },
  "language_info": {
   "codemirror_mode": {
    "name": "ipython",
    "version": 3
   },
   "file_extension": ".py",
   "mimetype": "text/x-python",
   "name": "python",
   "nbconvert_exporter": "python",
   "pygments_lexer": "ipython3",
   "version": "3.10.4"
  }
 },
 "nbformat": 4,
 "nbformat_minor": 5
}
