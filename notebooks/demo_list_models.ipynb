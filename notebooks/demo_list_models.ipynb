{
 "cells": [
  {
   "cell_type": "code",
   "execution_count": 1,
   "id": "edd37ea8-a2df-4453-af46-9e8353602791",
   "metadata": {},
   "outputs": [
    {
     "name": "stdout",
     "output_type": "stream",
     "text": [
      "\u001b[0m\u001b[01;34mcheckpoints\u001b[0m/                      \u001b[01;34mharvard-visionlab_visionlab_models_main\u001b[0m/\n",
      "\u001b[01;34mharvard-visionlab_modelhub_main\u001b[0m/  trusted_list\n"
     ]
    }
   ],
   "source": [
    "ls /home/jovyan/.cache/torch/hub"
   ]
  },
  {
   "cell_type": "code",
   "execution_count": 2,
   "id": "54e37012-fe79-4222-bb3a-86a769de15da",
   "metadata": {},
   "outputs": [],
   "source": [
    "!rm -R /home/jovyan/.cache/torch/hub/harvard-visionlab_visionlab_models_main"
   ]
  },
  {
   "cell_type": "code",
   "execution_count": 3,
   "id": "2d25bb58-581c-427a-bc7e-b8f17012d5c3",
   "metadata": {},
   "outputs": [
    {
     "name": "stderr",
     "output_type": "stream",
     "text": [
      "Downloading: \"https://github.com/harvard-visionlab/visionlab_models/zipball/main\" to /home/jovyan/.cache/torch/hub/main.zip\n"
     ]
    },
    {
     "data": {
      "text/plain": [
       "['list_families', 'list_models', 'show_metadata', 'visionlab_models']"
      ]
     },
     "execution_count": 3,
     "metadata": {},
     "output_type": "execute_result"
    }
   ],
   "source": [
    "import torch\n",
    "    \n",
    "torch.hub.list(\"harvard-visionlab/visionlab_models\", force_reload=True, trust_repo=True)"
   ]
  },
  {
   "cell_type": "code",
   "execution_count": 4,
   "id": "44e61745-abf3-46d7-aef0-b025e8e9aadd",
   "metadata": {},
   "outputs": [
    {
     "name": "stderr",
     "output_type": "stream",
     "text": [
      "Using cache found in /home/jovyan/.cache/torch/hub/harvard-visionlab_visionlab_models_main\n"
     ]
    },
    {
     "data": {
      "text/plain": [
       "<module 'models' from '/home/jovyan/.cache/torch/hub/harvard-visionlab_visionlab_models_main/models/__init__.py'>"
      ]
     },
     "execution_count": 4,
     "metadata": {},
     "output_type": "execute_result"
    }
   ],
   "source": [
    "models = torch.hub.load(\"harvard-visionlab/visionlab_models\", \"visionlab_models\")\n",
    "models"
   ]
  },
  {
   "cell_type": "code",
   "execution_count": 5,
   "id": "78f468a7-425d-4a2f-b30e-ec9a86991e21",
   "metadata": {},
   "outputs": [],
   "source": [
    "# torch.hub.load(\"harvard-visionlab/visionlab_models\", \"list_models\", \n",
    "#                model_source='testing', pattern='testing2')"
   ]
  },
  {
   "cell_type": "code",
   "execution_count": 6,
   "id": "b6d21af0-6eaa-416a-aaf8-05ff4cb3570a",
   "metadata": {},
   "outputs": [
    {
     "ename": "AttributeError",
     "evalue": "module 'models' has no attribute 'list_families'",
     "output_type": "error",
     "traceback": [
      "\u001b[0;31m---------------------------------------------------------------------------\u001b[0m",
      "\u001b[0;31mAttributeError\u001b[0m                            Traceback (most recent call last)",
      "Input \u001b[0;32mIn [6]\u001b[0m, in \u001b[0;36m<cell line: 1>\u001b[0;34m()\u001b[0m\n\u001b[0;32m----> 1\u001b[0m \u001b[43mmodels\u001b[49m\u001b[38;5;241;43m.\u001b[39;49m\u001b[43mlist_families\u001b[49m()\n",
      "\u001b[0;31mAttributeError\u001b[0m: module 'models' has no attribute 'list_families'"
     ]
    }
   ],
   "source": [
    "models.list_families()"
   ]
  },
  {
   "cell_type": "code",
   "execution_count": null,
   "id": "18a41a9e-a01d-4e08-8f36-4b3e42893294",
   "metadata": {},
   "outputs": [],
   "source": []
  }
 ],
 "metadata": {
  "kernelspec": {
   "display_name": "Python 3 (ipykernel)",
   "language": "python",
   "name": "python3"
  },
  "language_info": {
   "codemirror_mode": {
    "name": "ipython",
    "version": 3
   },
   "file_extension": ".py",
   "mimetype": "text/x-python",
   "name": "python",
   "nbconvert_exporter": "python",
   "pygments_lexer": "ipython3",
   "version": "3.10.4"
  }
 },
 "nbformat": 4,
 "nbformat_minor": 5
}
