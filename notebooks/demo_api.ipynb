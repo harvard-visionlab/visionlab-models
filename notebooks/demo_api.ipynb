{
 "cells": [
  {
   "cell_type": "code",
   "execution_count": 1,
   "id": "29489298-490a-4a40-aa27-d72947f5014e",
   "metadata": {},
   "outputs": [
    {
     "name": "stdout",
     "output_type": "stream",
     "text": [
      "\u001b[0m\u001b[01;34mcheckpoints\u001b[0m/                      \u001b[01;34mharvard-visionlab_visionlab_models_main\u001b[0m/\n",
      "\u001b[01;34mharvard-visionlab_modelhub_main\u001b[0m/  trusted_list\n"
     ]
    }
   ],
   "source": [
    "ls /home/jovyan/.cache/torch/hub"
   ]
  },
  {
   "cell_type": "code",
   "execution_count": 2,
   "id": "f4335e92-2c44-46be-809d-263d7eece479",
   "metadata": {},
   "outputs": [],
   "source": [
    "!rm -R /home/jovyan/.cache/torch/hub/harvard-visionlab_visionlab_models_main"
   ]
  },
  {
   "cell_type": "code",
   "execution_count": 3,
   "id": "59f76888-9631-458c-bf21-1c3e008cc535",
   "metadata": {},
   "outputs": [
    {
     "name": "stderr",
     "output_type": "stream",
     "text": [
      "Downloading: \"https://github.com/harvard-visionlab/visionlab_models/zipball/main\" to /home/jovyan/.cache/torch/hub/main.zip\n"
     ]
    },
    {
     "data": {
      "text/plain": [
       "['list_families', 'list_models', 'show_metadata', 'visionlab_models']"
      ]
     },
     "execution_count": 3,
     "metadata": {},
     "output_type": "execute_result"
    }
   ],
   "source": [
    "import torch\n",
    "    \n",
    "torch.hub.list(\"harvard-visionlab/visionlab_models\", force_reload=True, trust_repo=True)"
   ]
  },
  {
   "cell_type": "code",
   "execution_count": null,
   "id": "d913fd73-560b-4a46-8848-86e98ae7db60",
   "metadata": {},
   "outputs": [],
   "source": []
  }
 ],
 "metadata": {
  "kernelspec": {
   "display_name": "Python 3 (ipykernel)",
   "language": "python",
   "name": "python3"
  },
  "language_info": {
   "codemirror_mode": {
    "name": "ipython",
    "version": 3
   },
   "file_extension": ".py",
   "mimetype": "text/x-python",
   "name": "python",
   "nbconvert_exporter": "python",
   "pygments_lexer": "ipython3",
   "version": "3.10.4"
  }
 },
 "nbformat": 4,
 "nbformat_minor": 5
}
